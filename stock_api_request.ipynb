{
 "cells": [
  {
   "cell_type": "markdown",
   "metadata": {},
   "source": [
    "# Get stock data from API"
   ]
  },
  {
   "cell_type": "code",
   "execution_count": 1,
   "metadata": {},
   "outputs": [],
   "source": [
    "import requests\n",
    "import pandas as pd\n",
    "import bokeh.plotting as bk\n",
    "from bokeh.models import HoverTool, BoxZoomTool, PanTool, ZoomInTool, ZoomOutTool, ResetTool, Label\n",
    "import numpy as np\n",
    "\n",
    "API_URL = 'https://api.iextrading.com/1.0/stock/{}/chart/5y'"
   ]
  },
  {
   "cell_type": "code",
   "execution_count": 2,
   "metadata": {
    "scrolled": false
   },
   "outputs": [
    {
     "data": {
      "text/html": [
       "<div>\n",
       "<style scoped>\n",
       "    .dataframe tbody tr th:only-of-type {\n",
       "        vertical-align: middle;\n",
       "    }\n",
       "\n",
       "    .dataframe tbody tr th {\n",
       "        vertical-align: top;\n",
       "    }\n",
       "\n",
       "    .dataframe thead th {\n",
       "        text-align: right;\n",
       "    }\n",
       "</style>\n",
       "<table border=\"1\" class=\"dataframe\">\n",
       "  <thead>\n",
       "    <tr style=\"text-align: right;\">\n",
       "      <th></th>\n",
       "      <th>change</th>\n",
       "      <th>changeOverTime</th>\n",
       "      <th>changePercent</th>\n",
       "      <th>close</th>\n",
       "      <th>date</th>\n",
       "      <th>high</th>\n",
       "      <th>label</th>\n",
       "      <th>low</th>\n",
       "      <th>open</th>\n",
       "      <th>unadjustedVolume</th>\n",
       "      <th>volume</th>\n",
       "      <th>vwap</th>\n",
       "    </tr>\n",
       "  </thead>\n",
       "  <tbody>\n",
       "    <tr>\n",
       "      <th>926</th>\n",
       "      <td>-5.55</td>\n",
       "      <td>1.410107</td>\n",
       "      <td>-0.579</td>\n",
       "      <td>952.45</td>\n",
       "      <td>2017-08-24</td>\n",
       "      <td>959.00</td>\n",
       "      <td>Aug 24, 17</td>\n",
       "      <td>941.140</td>\n",
       "      <td>957.42</td>\n",
       "      <td>5195726</td>\n",
       "      <td>5195726</td>\n",
       "      <td>949.8416</td>\n",
       "    </tr>\n",
       "    <tr>\n",
       "      <th>404</th>\n",
       "      <td>7.76</td>\n",
       "      <td>0.358233</td>\n",
       "      <td>1.467</td>\n",
       "      <td>536.76</td>\n",
       "      <td>2015-07-30</td>\n",
       "      <td>539.20</td>\n",
       "      <td>Jul 30, 15</td>\n",
       "      <td>524.290</td>\n",
       "      <td>527.65</td>\n",
       "      <td>3743065</td>\n",
       "      <td>3743065</td>\n",
       "      <td>533.6289</td>\n",
       "    </tr>\n",
       "    <tr>\n",
       "      <th>6</th>\n",
       "      <td>-4.71</td>\n",
       "      <td>-0.004605</td>\n",
       "      <td>-1.183</td>\n",
       "      <td>393.37</td>\n",
       "      <td>2013-12-30</td>\n",
       "      <td>399.92</td>\n",
       "      <td>Dec 30, 13</td>\n",
       "      <td>392.450</td>\n",
       "      <td>399.41</td>\n",
       "      <td>2487812</td>\n",
       "      <td>2487812</td>\n",
       "      <td>394.7291</td>\n",
       "    </tr>\n",
       "    <tr>\n",
       "      <th>333</th>\n",
       "      <td>13.95</td>\n",
       "      <td>-0.014373</td>\n",
       "      <td>3.714</td>\n",
       "      <td>389.51</td>\n",
       "      <td>2015-04-20</td>\n",
       "      <td>391.94</td>\n",
       "      <td>Apr 20, 15</td>\n",
       "      <td>377.000</td>\n",
       "      <td>378.55</td>\n",
       "      <td>5016148</td>\n",
       "      <td>5016148</td>\n",
       "      <td>386.2131</td>\n",
       "    </tr>\n",
       "    <tr>\n",
       "      <th>280</th>\n",
       "      <td>9.94</td>\n",
       "      <td>-0.077735</td>\n",
       "      <td>2.804</td>\n",
       "      <td>364.47</td>\n",
       "      <td>2015-02-02</td>\n",
       "      <td>365.00</td>\n",
       "      <td>Feb 2, 15</td>\n",
       "      <td>350.010</td>\n",
       "      <td>350.05</td>\n",
       "      <td>10231914</td>\n",
       "      <td>10231914</td>\n",
       "      <td>359.1882</td>\n",
       "    </tr>\n",
       "    <tr>\n",
       "      <th>745</th>\n",
       "      <td>19.02</td>\n",
       "      <td>0.921506</td>\n",
       "      <td>2.569</td>\n",
       "      <td>759.36</td>\n",
       "      <td>2016-12-05</td>\n",
       "      <td>761.49</td>\n",
       "      <td>Dec 5, 16</td>\n",
       "      <td>742.000</td>\n",
       "      <td>745.00</td>\n",
       "      <td>4314723</td>\n",
       "      <td>4314723</td>\n",
       "      <td>756.0180</td>\n",
       "    </tr>\n",
       "    <tr>\n",
       "      <th>1048</th>\n",
       "      <td>19.66</td>\n",
       "      <td>2.715555</td>\n",
       "      <td>1.357</td>\n",
       "      <td>1468.35</td>\n",
       "      <td>2018-02-20</td>\n",
       "      <td>1488.77</td>\n",
       "      <td>Feb 20, 18</td>\n",
       "      <td>1446.490</td>\n",
       "      <td>1446.49</td>\n",
       "      <td>6499228</td>\n",
       "      <td>6499228</td>\n",
       "      <td>1468.6700</td>\n",
       "    </tr>\n",
       "    <tr>\n",
       "      <th>342</th>\n",
       "      <td>1.09</td>\n",
       "      <td>0.070042</td>\n",
       "      <td>0.258</td>\n",
       "      <td>422.87</td>\n",
       "      <td>2015-05-01</td>\n",
       "      <td>425.64</td>\n",
       "      <td>May 1, 15</td>\n",
       "      <td>416.000</td>\n",
       "      <td>423.82</td>\n",
       "      <td>3565824</td>\n",
       "      <td>3565824</td>\n",
       "      <td>420.5067</td>\n",
       "    </tr>\n",
       "    <tr>\n",
       "      <th>895</th>\n",
       "      <td>12.38</td>\n",
       "      <td>1.546901</td>\n",
       "      <td>1.245</td>\n",
       "      <td>1006.51</td>\n",
       "      <td>2017-07-12</td>\n",
       "      <td>1008.55</td>\n",
       "      <td>Jul 12, 17</td>\n",
       "      <td>998.100</td>\n",
       "      <td>1000.65</td>\n",
       "      <td>3608574</td>\n",
       "      <td>3608574</td>\n",
       "      <td>1003.9800</td>\n",
       "    </tr>\n",
       "    <tr>\n",
       "      <th>127</th>\n",
       "      <td>-3.08</td>\n",
       "      <td>-0.179736</td>\n",
       "      <td>-0.941</td>\n",
       "      <td>324.16</td>\n",
       "      <td>2014-06-24</td>\n",
       "      <td>329.73</td>\n",
       "      <td>Jun 24, 14</td>\n",
       "      <td>322.738</td>\n",
       "      <td>327.54</td>\n",
       "      <td>2627978</td>\n",
       "      <td>2627978</td>\n",
       "      <td>327.9327</td>\n",
       "    </tr>\n",
       "  </tbody>\n",
       "</table>\n",
       "</div>"
      ],
      "text/plain": [
       "      change  changeOverTime  changePercent    close        date     high  \\\n",
       "926    -5.55        1.410107         -0.579   952.45  2017-08-24   959.00   \n",
       "404     7.76        0.358233          1.467   536.76  2015-07-30   539.20   \n",
       "6      -4.71       -0.004605         -1.183   393.37  2013-12-30   399.92   \n",
       "333    13.95       -0.014373          3.714   389.51  2015-04-20   391.94   \n",
       "280     9.94       -0.077735          2.804   364.47  2015-02-02   365.00   \n",
       "745    19.02        0.921506          2.569   759.36  2016-12-05   761.49   \n",
       "1048   19.66        2.715555          1.357  1468.35  2018-02-20  1488.77   \n",
       "342     1.09        0.070042          0.258   422.87  2015-05-01   425.64   \n",
       "895    12.38        1.546901          1.245  1006.51  2017-07-12  1008.55   \n",
       "127    -3.08       -0.179736         -0.941   324.16  2014-06-24   329.73   \n",
       "\n",
       "           label       low     open  unadjustedVolume    volume       vwap  \n",
       "926   Aug 24, 17   941.140   957.42           5195726   5195726   949.8416  \n",
       "404   Jul 30, 15   524.290   527.65           3743065   3743065   533.6289  \n",
       "6     Dec 30, 13   392.450   399.41           2487812   2487812   394.7291  \n",
       "333   Apr 20, 15   377.000   378.55           5016148   5016148   386.2131  \n",
       "280    Feb 2, 15   350.010   350.05          10231914  10231914   359.1882  \n",
       "745    Dec 5, 16   742.000   745.00           4314723   4314723   756.0180  \n",
       "1048  Feb 20, 18  1446.490  1446.49           6499228   6499228  1468.6700  \n",
       "342    May 1, 15   416.000   423.82           3565824   3565824   420.5067  \n",
       "895   Jul 12, 17   998.100  1000.65           3608574   3608574  1003.9800  \n",
       "127   Jun 24, 14   322.738   327.54           2627978   2627978   327.9327  "
      ]
     },
     "execution_count": 2,
     "metadata": {},
     "output_type": "execute_result"
    }
   ],
   "source": [
    "# Make the API request and load json data into DataFrame\n",
    "symbol = 'amzn'\n",
    "res = requests.get(API_URL.format(symbol))\n",
    "data = res.json()\n",
    "df = pd.DataFrame(data)\n",
    "\n",
    "df.sample(10)"
   ]
  },
  {
   "cell_type": "code",
   "execution_count": 3,
   "metadata": {},
   "outputs": [],
   "source": [
    "#Add a new column in the shape of the original data\n",
    "seqs = np.arange(df.shape[0])\n",
    "df['seqs'] = pd.Series(seqs)"
   ]
  },
  {
   "cell_type": "code",
   "execution_count": 4,
   "metadata": {},
   "outputs": [],
   "source": [
    "# Add a mid column that is midpoint between open and close\n",
    "df['mid'] = df.apply(lambda x: (x['open'] + x['close']) / 2, axis=1)"
   ]
  },
  {
   "cell_type": "code",
   "execution_count": 5,
   "metadata": {},
   "outputs": [],
   "source": [
    "# Add height column after checking if close is greater than open\n",
    "df['height'] = df.apply(lambda x: x['close'] - x['open'] if x['close'] != x['open'] else 0.01, axis=1)"
   ]
  },
  {
   "cell_type": "code",
   "execution_count": 6,
   "metadata": {},
   "outputs": [
    {
     "data": {
      "text/html": [
       "<div>\n",
       "<style scoped>\n",
       "    .dataframe tbody tr th:only-of-type {\n",
       "        vertical-align: middle;\n",
       "    }\n",
       "\n",
       "    .dataframe tbody tr th {\n",
       "        vertical-align: top;\n",
       "    }\n",
       "\n",
       "    .dataframe thead th {\n",
       "        text-align: right;\n",
       "    }\n",
       "</style>\n",
       "<table border=\"1\" class=\"dataframe\">\n",
       "  <thead>\n",
       "    <tr style=\"text-align: right;\">\n",
       "      <th></th>\n",
       "      <th>change</th>\n",
       "      <th>changeOverTime</th>\n",
       "      <th>changePercent</th>\n",
       "      <th>close</th>\n",
       "      <th>date</th>\n",
       "      <th>high</th>\n",
       "      <th>label</th>\n",
       "      <th>low</th>\n",
       "      <th>open</th>\n",
       "      <th>unadjustedVolume</th>\n",
       "      <th>volume</th>\n",
       "      <th>vwap</th>\n",
       "      <th>seqs</th>\n",
       "      <th>mid</th>\n",
       "      <th>height</th>\n",
       "    </tr>\n",
       "  </thead>\n",
       "  <tbody>\n",
       "    <tr>\n",
       "      <th>0</th>\n",
       "      <td>-0.77</td>\n",
       "      <td>0.000000</td>\n",
       "      <td>-0.194</td>\n",
       "      <td>395.19</td>\n",
       "      <td>2013-12-19</td>\n",
       "      <td>397.29</td>\n",
       "      <td>Dec 19, 13</td>\n",
       "      <td>392.60</td>\n",
       "      <td>394.27</td>\n",
       "      <td>2429598</td>\n",
       "      <td>2429598</td>\n",
       "      <td>395.3560</td>\n",
       "      <td>0</td>\n",
       "      <td>394.730</td>\n",
       "      <td>0.92</td>\n",
       "    </tr>\n",
       "    <tr>\n",
       "      <th>1</th>\n",
       "      <td>7.01</td>\n",
       "      <td>0.017738</td>\n",
       "      <td>1.774</td>\n",
       "      <td>402.20</td>\n",
       "      <td>2013-12-20</td>\n",
       "      <td>404.72</td>\n",
       "      <td>Dec 20, 13</td>\n",
       "      <td>395.78</td>\n",
       "      <td>396.55</td>\n",
       "      <td>5038537</td>\n",
       "      <td>5038537</td>\n",
       "      <td>401.1329</td>\n",
       "      <td>1</td>\n",
       "      <td>399.375</td>\n",
       "      <td>5.65</td>\n",
       "    </tr>\n",
       "  </tbody>\n",
       "</table>\n",
       "</div>"
      ],
      "text/plain": [
       "   change  changeOverTime  changePercent   close        date    high  \\\n",
       "0   -0.77        0.000000         -0.194  395.19  2013-12-19  397.29   \n",
       "1    7.01        0.017738          1.774  402.20  2013-12-20  404.72   \n",
       "\n",
       "        label     low    open  unadjustedVolume   volume      vwap  seqs  \\\n",
       "0  Dec 19, 13  392.60  394.27           2429598  2429598  395.3560     0   \n",
       "1  Dec 20, 13  395.78  396.55           5038537  5038537  401.1329     1   \n",
       "\n",
       "       mid  height  \n",
       "0  394.730    0.92  \n",
       "1  399.375    5.65  "
      ]
     },
     "execution_count": 6,
     "metadata": {},
     "output_type": "execute_result"
    }
   ],
   "source": [
    "df.head(2)"
   ]
  },
  {
   "cell_type": "code",
   "execution_count": 7,
   "metadata": {},
   "outputs": [],
   "source": [
    "# some stuff to format plot\n",
    "inc = df.close > df.open #Series where stocks closed higher than they opened\n",
    "dec = df.close < df.open #Series in which stocks closed lower than they opened\n",
    "w = .3     #line width for plot"
   ]
  },
  {
   "cell_type": "code",
   "execution_count": 8,
   "metadata": {},
   "outputs": [],
   "source": [
    "#Define sources for increasing and decreasing stocks\n",
    "sourceInc = bk.ColumnDataSource(df.loc[inc])\n",
    "sourceDec = bk.ColumnDataSource(df.loc[dec])"
   ]
  },
  {
   "cell_type": "code",
   "execution_count": 9,
   "metadata": {},
   "outputs": [],
   "source": [
    "#Define the Bokeh tools to include in the figure\n",
    "hover = HoverTool(\n",
    "    tooltips=[\n",
    "        ('Date', '@date'),\n",
    "        ('Low', '@low'),\n",
    "        ('High', '@high'),\n",
    "        ('Open', '@open'),\n",
    "        ('Close', '@close'),\n",
    "        ('Percent', '@changePercent')\n",
    "    ]\n",
    ")"
   ]
  },
  {
   "cell_type": "code",
   "execution_count": 10,
   "metadata": {},
   "outputs": [],
   "source": [
    "TOOLS = [hover, BoxZoomTool(), PanTool(), ZoomInTool(), ZoomOutTool(), ResetTool()]"
   ]
  },
  {
   "cell_type": "code",
   "execution_count": 11,
   "metadata": {},
   "outputs": [],
   "source": [
    "#Define size and layout of figure\n",
    "p = bk.figure(plot_width=1200, plot_height=800, title='Amazon', tools=TOOLS, toolbar_location='above')\n",
    "p.xaxis.major_label_orientation = np.pi/4\n",
    "p.grid.grid_line_alpha = w\n",
    "descriptor = Label(x=70,  y=70, text='Amazon Stock Price Over Time')\n",
    "p.add_layout(descriptor)"
   ]
  },
  {
   "cell_type": "code",
   "execution_count": 12,
   "metadata": {},
   "outputs": [
    {
     "data": {
      "text/html": [
       "<div style=\"display: table;\"><div style=\"display: table-row;\"><div style=\"display: table-cell;\"><b title=\"bokeh.models.renderers.GlyphRenderer\">GlyphRenderer</b>(</div><div style=\"display: table-cell;\">id&nbsp;=&nbsp;'1048', <span id=\"1051\" style=\"cursor: pointer;\">&hellip;)</span></div></div><div class=\"1050\" style=\"display: none;\"><div style=\"display: table-cell;\"></div><div style=\"display: table-cell;\">data_source&nbsp;=&nbsp;ColumnDataSource(id='1045', ...),</div></div><div class=\"1050\" style=\"display: none;\"><div style=\"display: table-cell;\"></div><div style=\"display: table-cell;\">glyph&nbsp;=&nbsp;Segment(id='1046', ...),</div></div><div class=\"1050\" style=\"display: none;\"><div style=\"display: table-cell;\"></div><div style=\"display: table-cell;\">hover_glyph&nbsp;=&nbsp;None,</div></div><div class=\"1050\" style=\"display: none;\"><div style=\"display: table-cell;\"></div><div style=\"display: table-cell;\">js_event_callbacks&nbsp;=&nbsp;{},</div></div><div class=\"1050\" style=\"display: none;\"><div style=\"display: table-cell;\"></div><div style=\"display: table-cell;\">js_property_callbacks&nbsp;=&nbsp;{},</div></div><div class=\"1050\" style=\"display: none;\"><div style=\"display: table-cell;\"></div><div style=\"display: table-cell;\">level&nbsp;=&nbsp;'glyph',</div></div><div class=\"1050\" style=\"display: none;\"><div style=\"display: table-cell;\"></div><div style=\"display: table-cell;\">muted&nbsp;=&nbsp;False,</div></div><div class=\"1050\" style=\"display: none;\"><div style=\"display: table-cell;\"></div><div style=\"display: table-cell;\">muted_glyph&nbsp;=&nbsp;None,</div></div><div class=\"1050\" style=\"display: none;\"><div style=\"display: table-cell;\"></div><div style=\"display: table-cell;\">name&nbsp;=&nbsp;None,</div></div><div class=\"1050\" style=\"display: none;\"><div style=\"display: table-cell;\"></div><div style=\"display: table-cell;\">nonselection_glyph&nbsp;=&nbsp;Segment(id='1047', ...),</div></div><div class=\"1050\" style=\"display: none;\"><div style=\"display: table-cell;\"></div><div style=\"display: table-cell;\">selection_glyph&nbsp;=&nbsp;None,</div></div><div class=\"1050\" style=\"display: none;\"><div style=\"display: table-cell;\"></div><div style=\"display: table-cell;\">subscribed_events&nbsp;=&nbsp;[],</div></div><div class=\"1050\" style=\"display: none;\"><div style=\"display: table-cell;\"></div><div style=\"display: table-cell;\">tags&nbsp;=&nbsp;[],</div></div><div class=\"1050\" style=\"display: none;\"><div style=\"display: table-cell;\"></div><div style=\"display: table-cell;\">view&nbsp;=&nbsp;CDSView(id='1049', ...),</div></div><div class=\"1050\" style=\"display: none;\"><div style=\"display: table-cell;\"></div><div style=\"display: table-cell;\">visible&nbsp;=&nbsp;True,</div></div><div class=\"1050\" style=\"display: none;\"><div style=\"display: table-cell;\"></div><div style=\"display: table-cell;\">x_range_name&nbsp;=&nbsp;'default',</div></div><div class=\"1050\" style=\"display: none;\"><div style=\"display: table-cell;\"></div><div style=\"display: table-cell;\">y_range_name&nbsp;=&nbsp;'default')</div></div></div>\n",
       "<script>\n",
       "(function() {\n",
       "  var expanded = false;\n",
       "  var ellipsis = document.getElementById(\"1051\");\n",
       "  ellipsis.addEventListener(\"click\", function() {\n",
       "    var rows = document.getElementsByClassName(\"1050\");\n",
       "    for (var i = 0; i < rows.length; i++) {\n",
       "      var el = rows[i];\n",
       "      el.style.display = expanded ? \"none\" : \"table-row\";\n",
       "    }\n",
       "    ellipsis.innerHTML = expanded ? \"&hellip;)\" : \"&lsaquo;&lsaquo;&lsaquo;\";\n",
       "    expanded = !expanded;\n",
       "  });\n",
       "})();\n",
       "</script>\n"
      ],
      "text/plain": [
       "GlyphRenderer(id='1048', ...)"
      ]
     },
     "execution_count": 12,
     "metadata": {},
     "output_type": "execute_result"
    }
   ],
   "source": [
    "#Create segments for price increases\n",
    "p.segment(df.seqs[inc], df.high[inc], df.seqs[inc], df.low[inc], color='green')\n",
    "#Create segments for price decreases\n",
    "p.segment(df.seqs[dec], df.high[dec], df.seqs[dec], df.low[dec], color='red')"
   ]
  },
  {
   "cell_type": "code",
   "execution_count": 13,
   "metadata": {},
   "outputs": [
    {
     "data": {
      "text/html": [
       "<div style=\"display: table;\"><div style=\"display: table-row;\"><div style=\"display: table-cell;\"><b title=\"bokeh.models.renderers.GlyphRenderer\">GlyphRenderer</b>(</div><div style=\"display: table-cell;\">id&nbsp;=&nbsp;'1060', <span id=\"1063\" style=\"cursor: pointer;\">&hellip;)</span></div></div><div class=\"1062\" style=\"display: none;\"><div style=\"display: table-cell;\"></div><div style=\"display: table-cell;\">data_source&nbsp;=&nbsp;ColumnDataSource(id='1002', ...),</div></div><div class=\"1062\" style=\"display: none;\"><div style=\"display: table-cell;\"></div><div style=\"display: table-cell;\">glyph&nbsp;=&nbsp;Rect(id='1058', ...),</div></div><div class=\"1062\" style=\"display: none;\"><div style=\"display: table-cell;\"></div><div style=\"display: table-cell;\">hover_glyph&nbsp;=&nbsp;None,</div></div><div class=\"1062\" style=\"display: none;\"><div style=\"display: table-cell;\"></div><div style=\"display: table-cell;\">js_event_callbacks&nbsp;=&nbsp;{},</div></div><div class=\"1062\" style=\"display: none;\"><div style=\"display: table-cell;\"></div><div style=\"display: table-cell;\">js_property_callbacks&nbsp;=&nbsp;{},</div></div><div class=\"1062\" style=\"display: none;\"><div style=\"display: table-cell;\"></div><div style=\"display: table-cell;\">level&nbsp;=&nbsp;'glyph',</div></div><div class=\"1062\" style=\"display: none;\"><div style=\"display: table-cell;\"></div><div style=\"display: table-cell;\">muted&nbsp;=&nbsp;False,</div></div><div class=\"1062\" style=\"display: none;\"><div style=\"display: table-cell;\"></div><div style=\"display: table-cell;\">muted_glyph&nbsp;=&nbsp;None,</div></div><div class=\"1062\" style=\"display: none;\"><div style=\"display: table-cell;\"></div><div style=\"display: table-cell;\">name&nbsp;=&nbsp;None,</div></div><div class=\"1062\" style=\"display: none;\"><div style=\"display: table-cell;\"></div><div style=\"display: table-cell;\">nonselection_glyph&nbsp;=&nbsp;Rect(id='1059', ...),</div></div><div class=\"1062\" style=\"display: none;\"><div style=\"display: table-cell;\"></div><div style=\"display: table-cell;\">selection_glyph&nbsp;=&nbsp;None,</div></div><div class=\"1062\" style=\"display: none;\"><div style=\"display: table-cell;\"></div><div style=\"display: table-cell;\">subscribed_events&nbsp;=&nbsp;[],</div></div><div class=\"1062\" style=\"display: none;\"><div style=\"display: table-cell;\"></div><div style=\"display: table-cell;\">tags&nbsp;=&nbsp;[],</div></div><div class=\"1062\" style=\"display: none;\"><div style=\"display: table-cell;\"></div><div style=\"display: table-cell;\">view&nbsp;=&nbsp;CDSView(id='1061', ...),</div></div><div class=\"1062\" style=\"display: none;\"><div style=\"display: table-cell;\"></div><div style=\"display: table-cell;\">visible&nbsp;=&nbsp;True,</div></div><div class=\"1062\" style=\"display: none;\"><div style=\"display: table-cell;\"></div><div style=\"display: table-cell;\">x_range_name&nbsp;=&nbsp;'default',</div></div><div class=\"1062\" style=\"display: none;\"><div style=\"display: table-cell;\"></div><div style=\"display: table-cell;\">y_range_name&nbsp;=&nbsp;'default')</div></div></div>\n",
       "<script>\n",
       "(function() {\n",
       "  var expanded = false;\n",
       "  var ellipsis = document.getElementById(\"1063\");\n",
       "  ellipsis.addEventListener(\"click\", function() {\n",
       "    var rows = document.getElementsByClassName(\"1062\");\n",
       "    for (var i = 0; i < rows.length; i++) {\n",
       "      var el = rows[i];\n",
       "      el.style.display = expanded ? \"none\" : \"table-row\";\n",
       "    }\n",
       "    ellipsis.innerHTML = expanded ? \"&hellip;)\" : \"&lsaquo;&lsaquo;&lsaquo;\";\n",
       "    expanded = !expanded;\n",
       "  });\n",
       "})();\n",
       "</script>\n"
      ],
      "text/plain": [
       "GlyphRenderer(id='1060', ...)"
      ]
     },
     "execution_count": 13,
     "metadata": {},
     "output_type": "execute_result"
    }
   ],
   "source": [
    "#Create rects for price increases\n",
    "p.rect(x='seqs', y='mid', width=w, height='height', fill_color='green', line_color='green', source=sourceInc)\n",
    "#Create rects for price decreases\n",
    "p.rect(x='seqs', y='mid', width=w, height='height', fill_color='red', line_color='red', source=sourceDec)"
   ]
  },
  {
   "cell_type": "code",
   "execution_count": 17,
   "metadata": {},
   "outputs": [
    {
     "data": {
      "text/plain": [
       "'/home/scott/codefellows/401/projects/stock_portfolio/stock_plot.html'"
      ]
     },
     "execution_count": 17,
     "metadata": {},
     "output_type": "execute_result"
    }
   ],
   "source": [
    "# bk.show(p)\n",
    "bk.save(p, './stock_plot.html')"
   ]
  },
  {
   "cell_type": "code",
   "execution_count": null,
   "metadata": {},
   "outputs": [],
   "source": []
  }
 ],
 "metadata": {
  "kernelspec": {
   "display_name": "Python 3",
   "language": "python",
   "name": "python3"
  },
  "language_info": {
   "codemirror_mode": {
    "name": "ipython",
    "version": 3
   },
   "file_extension": ".py",
   "mimetype": "text/x-python",
   "name": "python",
   "nbconvert_exporter": "python",
   "pygments_lexer": "ipython3",
   "version": "3.6.7"
  }
 },
 "nbformat": 4,
 "nbformat_minor": 2
}
