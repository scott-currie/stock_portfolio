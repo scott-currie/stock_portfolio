{
 "cells": [
  {
   "cell_type": "markdown",
   "metadata": {},
   "source": [
    "# Get stock data from API"
   ]
  },
  {
   "cell_type": "code",
   "execution_count": 1,
   "metadata": {},
   "outputs": [],
   "source": [
    "import requests\n",
    "import pandas as pd\n",
    "import bokeh.plotting as bk\n",
    "from bokeh.models import HoverTool, BoxZoomTool, PanTool, ZoomInTool, ZoomOutTool, ResetTool, Label\n",
    "import numpy as np\n",
    "\n",
    "API_URL = 'https://api.iextrading.com/1.0/stock/{}/chart/5y'"
   ]
  },
  {
   "cell_type": "code",
   "execution_count": 2,
   "metadata": {
    "scrolled": false
   },
   "outputs": [
    {
     "data": {
      "text/html": [
       "<div>\n",
       "<style scoped>\n",
       "    .dataframe tbody tr th:only-of-type {\n",
       "        vertical-align: middle;\n",
       "    }\n",
       "\n",
       "    .dataframe tbody tr th {\n",
       "        vertical-align: top;\n",
       "    }\n",
       "\n",
       "    .dataframe thead th {\n",
       "        text-align: right;\n",
       "    }\n",
       "</style>\n",
       "<table border=\"1\" class=\"dataframe\">\n",
       "  <thead>\n",
       "    <tr style=\"text-align: right;\">\n",
       "      <th></th>\n",
       "      <th>change</th>\n",
       "      <th>changeOverTime</th>\n",
       "      <th>changePercent</th>\n",
       "      <th>close</th>\n",
       "      <th>date</th>\n",
       "      <th>high</th>\n",
       "      <th>label</th>\n",
       "      <th>low</th>\n",
       "      <th>open</th>\n",
       "      <th>unadjustedVolume</th>\n",
       "      <th>volume</th>\n",
       "      <th>vwap</th>\n",
       "    </tr>\n",
       "  </thead>\n",
       "  <tbody>\n",
       "    <tr>\n",
       "      <th>160</th>\n",
       "      <td>0.99</td>\n",
       "      <td>-0.206067</td>\n",
       "      <td>0.311</td>\n",
       "      <td>319.32</td>\n",
       "      <td>2014-08-12</td>\n",
       "      <td>321.3100</td>\n",
       "      <td>Aug 12, 14</td>\n",
       "      <td>316.95</td>\n",
       "      <td>318.89</td>\n",
       "      <td>1916143</td>\n",
       "      <td>1916143</td>\n",
       "      <td>319.1125</td>\n",
       "    </tr>\n",
       "    <tr>\n",
       "      <th>1078</th>\n",
       "      <td>41.18</td>\n",
       "      <td>2.609523</td>\n",
       "      <td>2.919</td>\n",
       "      <td>1451.75</td>\n",
       "      <td>2018-04-05</td>\n",
       "      <td>1459.5600</td>\n",
       "      <td>Apr 5, 18</td>\n",
       "      <td>1427.07</td>\n",
       "      <td>1441.99</td>\n",
       "      <td>6413459</td>\n",
       "      <td>6413459</td>\n",
       "      <td>1445.1900</td>\n",
       "    </tr>\n",
       "    <tr>\n",
       "      <th>246</th>\n",
       "      <td>-0.04</td>\n",
       "      <td>-0.235903</td>\n",
       "      <td>-0.013</td>\n",
       "      <td>307.32</td>\n",
       "      <td>2014-12-12</td>\n",
       "      <td>310.6399</td>\n",
       "      <td>Dec 12, 14</td>\n",
       "      <td>303.01</td>\n",
       "      <td>303.99</td>\n",
       "      <td>3162322</td>\n",
       "      <td>3162322</td>\n",
       "      <td>308.1892</td>\n",
       "    </tr>\n",
       "    <tr>\n",
       "      <th>356</th>\n",
       "      <td>-4.00</td>\n",
       "      <td>0.063227</td>\n",
       "      <td>-0.927</td>\n",
       "      <td>427.63</td>\n",
       "      <td>2015-05-22</td>\n",
       "      <td>432.4400</td>\n",
       "      <td>May 22, 15</td>\n",
       "      <td>427.61</td>\n",
       "      <td>431.55</td>\n",
       "      <td>2020629</td>\n",
       "      <td>2020629</td>\n",
       "      <td>429.5928</td>\n",
       "    </tr>\n",
       "    <tr>\n",
       "      <th>1013</th>\n",
       "      <td>-16.63</td>\n",
       "      <td>1.907683</td>\n",
       "      <td>-1.402</td>\n",
       "      <td>1169.47</td>\n",
       "      <td>2017-12-29</td>\n",
       "      <td>1184.0000</td>\n",
       "      <td>Dec 29, 17</td>\n",
       "      <td>1167.50</td>\n",
       "      <td>1182.35</td>\n",
       "      <td>2688391</td>\n",
       "      <td>2688391</td>\n",
       "      <td>1174.7000</td>\n",
       "    </tr>\n",
       "    <tr>\n",
       "      <th>542</th>\n",
       "      <td>-9.10</td>\n",
       "      <td>0.305321</td>\n",
       "      <td>-1.704</td>\n",
       "      <td>525.00</td>\n",
       "      <td>2016-02-18</td>\n",
       "      <td>541.2000</td>\n",
       "      <td>Feb 18, 16</td>\n",
       "      <td>523.73</td>\n",
       "      <td>541.19</td>\n",
       "      <td>4735008</td>\n",
       "      <td>4735008</td>\n",
       "      <td>532.5231</td>\n",
       "    </tr>\n",
       "    <tr>\n",
       "      <th>195</th>\n",
       "      <td>-4.98</td>\n",
       "      <td>-0.210691</td>\n",
       "      <td>-1.544</td>\n",
       "      <td>317.46</td>\n",
       "      <td>2014-10-01</td>\n",
       "      <td>322.1650</td>\n",
       "      <td>Oct 1, 14</td>\n",
       "      <td>315.55</td>\n",
       "      <td>322.04</td>\n",
       "      <td>3096735</td>\n",
       "      <td>3096735</td>\n",
       "      <td>317.8827</td>\n",
       "    </tr>\n",
       "    <tr>\n",
       "      <th>861</th>\n",
       "      <td>8.81</td>\n",
       "      <td>1.437469</td>\n",
       "      <td>0.907</td>\n",
       "      <td>980.35</td>\n",
       "      <td>2017-05-24</td>\n",
       "      <td>981.0000</td>\n",
       "      <td>May 24, 17</td>\n",
       "      <td>970.23</td>\n",
       "      <td>976.00</td>\n",
       "      <td>2463052</td>\n",
       "      <td>2463052</td>\n",
       "      <td>976.2573</td>\n",
       "    </tr>\n",
       "    <tr>\n",
       "      <th>873</th>\n",
       "      <td>-13.40</td>\n",
       "      <td>1.399080</td>\n",
       "      <td>-1.370</td>\n",
       "      <td>964.91</td>\n",
       "      <td>2017-06-12</td>\n",
       "      <td>975.9500</td>\n",
       "      <td>Jun 12, 17</td>\n",
       "      <td>945.00</td>\n",
       "      <td>967.00</td>\n",
       "      <td>9447233</td>\n",
       "      <td>9447233</td>\n",
       "      <td>960.5778</td>\n",
       "    </tr>\n",
       "    <tr>\n",
       "      <th>565</th>\n",
       "      <td>6.50</td>\n",
       "      <td>0.393536</td>\n",
       "      <td>1.173</td>\n",
       "      <td>560.48</td>\n",
       "      <td>2016-03-22</td>\n",
       "      <td>562.7600</td>\n",
       "      <td>Mar 22, 16</td>\n",
       "      <td>545.05</td>\n",
       "      <td>545.11</td>\n",
       "      <td>4000564</td>\n",
       "      <td>4000564</td>\n",
       "      <td>557.7667</td>\n",
       "    </tr>\n",
       "  </tbody>\n",
       "</table>\n",
       "</div>"
      ],
      "text/plain": [
       "      change  changeOverTime  changePercent    close        date       high  \\\n",
       "160     0.99       -0.206067          0.311   319.32  2014-08-12   321.3100   \n",
       "1078   41.18        2.609523          2.919  1451.75  2018-04-05  1459.5600   \n",
       "246    -0.04       -0.235903         -0.013   307.32  2014-12-12   310.6399   \n",
       "356    -4.00        0.063227         -0.927   427.63  2015-05-22   432.4400   \n",
       "1013  -16.63        1.907683         -1.402  1169.47  2017-12-29  1184.0000   \n",
       "542    -9.10        0.305321         -1.704   525.00  2016-02-18   541.2000   \n",
       "195    -4.98       -0.210691         -1.544   317.46  2014-10-01   322.1650   \n",
       "861     8.81        1.437469          0.907   980.35  2017-05-24   981.0000   \n",
       "873   -13.40        1.399080         -1.370   964.91  2017-06-12   975.9500   \n",
       "565     6.50        0.393536          1.173   560.48  2016-03-22   562.7600   \n",
       "\n",
       "           label      low     open  unadjustedVolume   volume       vwap  \n",
       "160   Aug 12, 14   316.95   318.89           1916143  1916143   319.1125  \n",
       "1078   Apr 5, 18  1427.07  1441.99           6413459  6413459  1445.1900  \n",
       "246   Dec 12, 14   303.01   303.99           3162322  3162322   308.1892  \n",
       "356   May 22, 15   427.61   431.55           2020629  2020629   429.5928  \n",
       "1013  Dec 29, 17  1167.50  1182.35           2688391  2688391  1174.7000  \n",
       "542   Feb 18, 16   523.73   541.19           4735008  4735008   532.5231  \n",
       "195    Oct 1, 14   315.55   322.04           3096735  3096735   317.8827  \n",
       "861   May 24, 17   970.23   976.00           2463052  2463052   976.2573  \n",
       "873   Jun 12, 17   945.00   967.00           9447233  9447233   960.5778  \n",
       "565   Mar 22, 16   545.05   545.11           4000564  4000564   557.7667  "
      ]
     },
     "execution_count": 2,
     "metadata": {},
     "output_type": "execute_result"
    }
   ],
   "source": [
    "# Make the API request and load json data into DataFrame\n",
    "symbol = 'amzn'\n",
    "res = requests.get(API_URL.format(symbol))\n",
    "data = res.json()\n",
    "df = pd.DataFrame(data)\n",
    "\n",
    "df.sample(10)"
   ]
  },
  {
   "cell_type": "code",
   "execution_count": 3,
   "metadata": {},
   "outputs": [],
   "source": [
    "#Add a new column in the shape of the original data\n",
    "seqs = np.arange(df.shape[0])\n",
    "df['seqs'] = pd.Series(seqs)"
   ]
  },
  {
   "cell_type": "code",
   "execution_count": 4,
   "metadata": {},
   "outputs": [],
   "source": [
    "# Add a mid column that is midpoint between open and close\n",
    "df['mid'] = df.apply(lambda x: (x['open'] + x['close']) / 2, axis=1)"
   ]
  },
  {
   "cell_type": "code",
   "execution_count": 5,
   "metadata": {},
   "outputs": [],
   "source": [
    "# Add height column after checking if close is greater than open\n",
    "df['height'] = df.apply(lambda x: x['close'] - x['open'] if x['close'] != x['open'] else 0.01, axis=1)"
   ]
  },
  {
   "cell_type": "code",
   "execution_count": 6,
   "metadata": {},
   "outputs": [
    {
     "data": {
      "text/html": [
       "<div>\n",
       "<style scoped>\n",
       "    .dataframe tbody tr th:only-of-type {\n",
       "        vertical-align: middle;\n",
       "    }\n",
       "\n",
       "    .dataframe tbody tr th {\n",
       "        vertical-align: top;\n",
       "    }\n",
       "\n",
       "    .dataframe thead th {\n",
       "        text-align: right;\n",
       "    }\n",
       "</style>\n",
       "<table border=\"1\" class=\"dataframe\">\n",
       "  <thead>\n",
       "    <tr style=\"text-align: right;\">\n",
       "      <th></th>\n",
       "      <th>change</th>\n",
       "      <th>changeOverTime</th>\n",
       "      <th>changePercent</th>\n",
       "      <th>close</th>\n",
       "      <th>date</th>\n",
       "      <th>high</th>\n",
       "      <th>label</th>\n",
       "      <th>low</th>\n",
       "      <th>open</th>\n",
       "      <th>unadjustedVolume</th>\n",
       "      <th>volume</th>\n",
       "      <th>vwap</th>\n",
       "      <th>seqs</th>\n",
       "      <th>mid</th>\n",
       "      <th>height</th>\n",
       "    </tr>\n",
       "  </thead>\n",
       "  <tbody>\n",
       "    <tr>\n",
       "      <th>0</th>\n",
       "      <td>7.01</td>\n",
       "      <td>0.00000</td>\n",
       "      <td>1.774</td>\n",
       "      <td>402.20</td>\n",
       "      <td>2013-12-20</td>\n",
       "      <td>404.72</td>\n",
       "      <td>Dec 20, 13</td>\n",
       "      <td>395.78</td>\n",
       "      <td>396.55</td>\n",
       "      <td>5038537</td>\n",
       "      <td>5038537</td>\n",
       "      <td>401.1329</td>\n",
       "      <td>0</td>\n",
       "      <td>399.375</td>\n",
       "      <td>5.65</td>\n",
       "    </tr>\n",
       "    <tr>\n",
       "      <th>1</th>\n",
       "      <td>0.72</td>\n",
       "      <td>0.00179</td>\n",
       "      <td>0.179</td>\n",
       "      <td>402.92</td>\n",
       "      <td>2013-12-23</td>\n",
       "      <td>405.00</td>\n",
       "      <td>Dec 23, 13</td>\n",
       "      <td>399.20</td>\n",
       "      <td>403.69</td>\n",
       "      <td>2661823</td>\n",
       "      <td>2661823</td>\n",
       "      <td>402.2857</td>\n",
       "      <td>1</td>\n",
       "      <td>403.305</td>\n",
       "      <td>-0.77</td>\n",
       "    </tr>\n",
       "  </tbody>\n",
       "</table>\n",
       "</div>"
      ],
      "text/plain": [
       "   change  changeOverTime  changePercent   close        date    high  \\\n",
       "0    7.01         0.00000          1.774  402.20  2013-12-20  404.72   \n",
       "1    0.72         0.00179          0.179  402.92  2013-12-23  405.00   \n",
       "\n",
       "        label     low    open  unadjustedVolume   volume      vwap  seqs  \\\n",
       "0  Dec 20, 13  395.78  396.55           5038537  5038537  401.1329     0   \n",
       "1  Dec 23, 13  399.20  403.69           2661823  2661823  402.2857     1   \n",
       "\n",
       "       mid  height  \n",
       "0  399.375    5.65  \n",
       "1  403.305   -0.77  "
      ]
     },
     "execution_count": 6,
     "metadata": {},
     "output_type": "execute_result"
    }
   ],
   "source": [
    "df.head(2)"
   ]
  },
  {
   "cell_type": "code",
   "execution_count": 7,
   "metadata": {},
   "outputs": [],
   "source": [
    "# some stuff to format plot\n",
    "inc = df.close > df.open #Series where stocks closed higher than they opened\n",
    "dec = df.close < df.open #Series in which stocks closed lower than they opened\n",
    "w = .3     #line width for plot"
   ]
  },
  {
   "cell_type": "code",
   "execution_count": 8,
   "metadata": {},
   "outputs": [],
   "source": [
    "#Define sources for increasing and decreasing stocks\n",
    "sourceInc = bk.ColumnDataSource(df.loc[inc])\n",
    "sourceDec = bk.ColumnDataSource(df.loc[dec])"
   ]
  },
  {
   "cell_type": "code",
   "execution_count": 9,
   "metadata": {},
   "outputs": [],
   "source": [
    "#Define the Bokeh tools to include in the figure\n",
    "hover = HoverTool(\n",
    "    tooltips=[\n",
    "        ('Date', '@date'),\n",
    "        ('Low', '@low'),\n",
    "        ('High', '@high'),\n",
    "        ('Open', '@open'),\n",
    "        ('Close', '@close'),\n",
    "        ('Percent', '@changePercent')\n",
    "    ]\n",
    ")"
   ]
  },
  {
   "cell_type": "code",
   "execution_count": 10,
   "metadata": {},
   "outputs": [],
   "source": [
    "TOOLS = [hover, BoxZoomTool(), PanTool(), ZoomInTool(), ZoomOutTool(), ResetTool()]"
   ]
  },
  {
   "cell_type": "code",
   "execution_count": 11,
   "metadata": {},
   "outputs": [],
   "source": [
    "#Define size and layout of figure\n",
    "p = bk.figure(plot_width=1200, plot_height=800, title='Amazon', tools=TOOLS, toolbar_location='above')\n",
    "p.xaxis.major_label_orientation = np.pi/4\n",
    "p.grid.grid_line_alpha = w\n",
    "descriptor = Label(x=70,  y=70, text='Amazon Stock Price Over Time')\n",
    "p.add_layout(descriptor)"
   ]
  },
  {
   "cell_type": "code",
   "execution_count": 12,
   "metadata": {},
   "outputs": [
    {
     "data": {
      "text/html": [
       "<div style=\"display: table;\"><div style=\"display: table-row;\"><div style=\"display: table-cell;\"><b title=\"bokeh.models.renderers.GlyphRenderer\">GlyphRenderer</b>(</div><div style=\"display: table-cell;\">id&nbsp;=&nbsp;'1048', <span id=\"1051\" style=\"cursor: pointer;\">&hellip;)</span></div></div><div class=\"1050\" style=\"display: none;\"><div style=\"display: table-cell;\"></div><div style=\"display: table-cell;\">data_source&nbsp;=&nbsp;ColumnDataSource(id='1045', ...),</div></div><div class=\"1050\" style=\"display: none;\"><div style=\"display: table-cell;\"></div><div style=\"display: table-cell;\">glyph&nbsp;=&nbsp;Segment(id='1046', ...),</div></div><div class=\"1050\" style=\"display: none;\"><div style=\"display: table-cell;\"></div><div style=\"display: table-cell;\">hover_glyph&nbsp;=&nbsp;None,</div></div><div class=\"1050\" style=\"display: none;\"><div style=\"display: table-cell;\"></div><div style=\"display: table-cell;\">js_event_callbacks&nbsp;=&nbsp;{},</div></div><div class=\"1050\" style=\"display: none;\"><div style=\"display: table-cell;\"></div><div style=\"display: table-cell;\">js_property_callbacks&nbsp;=&nbsp;{},</div></div><div class=\"1050\" style=\"display: none;\"><div style=\"display: table-cell;\"></div><div style=\"display: table-cell;\">level&nbsp;=&nbsp;'glyph',</div></div><div class=\"1050\" style=\"display: none;\"><div style=\"display: table-cell;\"></div><div style=\"display: table-cell;\">muted&nbsp;=&nbsp;False,</div></div><div class=\"1050\" style=\"display: none;\"><div style=\"display: table-cell;\"></div><div style=\"display: table-cell;\">muted_glyph&nbsp;=&nbsp;None,</div></div><div class=\"1050\" style=\"display: none;\"><div style=\"display: table-cell;\"></div><div style=\"display: table-cell;\">name&nbsp;=&nbsp;None,</div></div><div class=\"1050\" style=\"display: none;\"><div style=\"display: table-cell;\"></div><div style=\"display: table-cell;\">nonselection_glyph&nbsp;=&nbsp;Segment(id='1047', ...),</div></div><div class=\"1050\" style=\"display: none;\"><div style=\"display: table-cell;\"></div><div style=\"display: table-cell;\">selection_glyph&nbsp;=&nbsp;None,</div></div><div class=\"1050\" style=\"display: none;\"><div style=\"display: table-cell;\"></div><div style=\"display: table-cell;\">subscribed_events&nbsp;=&nbsp;[],</div></div><div class=\"1050\" style=\"display: none;\"><div style=\"display: table-cell;\"></div><div style=\"display: table-cell;\">tags&nbsp;=&nbsp;[],</div></div><div class=\"1050\" style=\"display: none;\"><div style=\"display: table-cell;\"></div><div style=\"display: table-cell;\">view&nbsp;=&nbsp;CDSView(id='1049', ...),</div></div><div class=\"1050\" style=\"display: none;\"><div style=\"display: table-cell;\"></div><div style=\"display: table-cell;\">visible&nbsp;=&nbsp;True,</div></div><div class=\"1050\" style=\"display: none;\"><div style=\"display: table-cell;\"></div><div style=\"display: table-cell;\">x_range_name&nbsp;=&nbsp;'default',</div></div><div class=\"1050\" style=\"display: none;\"><div style=\"display: table-cell;\"></div><div style=\"display: table-cell;\">y_range_name&nbsp;=&nbsp;'default')</div></div></div>\n",
       "<script>\n",
       "(function() {\n",
       "  var expanded = false;\n",
       "  var ellipsis = document.getElementById(\"1051\");\n",
       "  ellipsis.addEventListener(\"click\", function() {\n",
       "    var rows = document.getElementsByClassName(\"1050\");\n",
       "    for (var i = 0; i < rows.length; i++) {\n",
       "      var el = rows[i];\n",
       "      el.style.display = expanded ? \"none\" : \"table-row\";\n",
       "    }\n",
       "    ellipsis.innerHTML = expanded ? \"&hellip;)\" : \"&lsaquo;&lsaquo;&lsaquo;\";\n",
       "    expanded = !expanded;\n",
       "  });\n",
       "})();\n",
       "</script>\n"
      ],
      "text/plain": [
       "GlyphRenderer(id='1048', ...)"
      ]
     },
     "execution_count": 12,
     "metadata": {},
     "output_type": "execute_result"
    }
   ],
   "source": [
    "#Create segments for price increases\n",
    "p.segment(df.seqs[inc], df.high[inc], df.seqs[inc], df.low[inc], color='green')\n",
    "#Create segments for price decreases\n",
    "p.segment(df.seqs[dec], df.high[dec], df.seqs[dec], df.low[dec], color='red')"
   ]
  },
  {
   "cell_type": "code",
   "execution_count": 13,
   "metadata": {},
   "outputs": [
    {
     "data": {
      "text/html": [
       "<div style=\"display: table;\"><div style=\"display: table-row;\"><div style=\"display: table-cell;\"><b title=\"bokeh.models.renderers.GlyphRenderer\">GlyphRenderer</b>(</div><div style=\"display: table-cell;\">id&nbsp;=&nbsp;'1060', <span id=\"1063\" style=\"cursor: pointer;\">&hellip;)</span></div></div><div class=\"1062\" style=\"display: none;\"><div style=\"display: table-cell;\"></div><div style=\"display: table-cell;\">data_source&nbsp;=&nbsp;ColumnDataSource(id='1002', ...),</div></div><div class=\"1062\" style=\"display: none;\"><div style=\"display: table-cell;\"></div><div style=\"display: table-cell;\">glyph&nbsp;=&nbsp;Rect(id='1058', ...),</div></div><div class=\"1062\" style=\"display: none;\"><div style=\"display: table-cell;\"></div><div style=\"display: table-cell;\">hover_glyph&nbsp;=&nbsp;None,</div></div><div class=\"1062\" style=\"display: none;\"><div style=\"display: table-cell;\"></div><div style=\"display: table-cell;\">js_event_callbacks&nbsp;=&nbsp;{},</div></div><div class=\"1062\" style=\"display: none;\"><div style=\"display: table-cell;\"></div><div style=\"display: table-cell;\">js_property_callbacks&nbsp;=&nbsp;{},</div></div><div class=\"1062\" style=\"display: none;\"><div style=\"display: table-cell;\"></div><div style=\"display: table-cell;\">level&nbsp;=&nbsp;'glyph',</div></div><div class=\"1062\" style=\"display: none;\"><div style=\"display: table-cell;\"></div><div style=\"display: table-cell;\">muted&nbsp;=&nbsp;False,</div></div><div class=\"1062\" style=\"display: none;\"><div style=\"display: table-cell;\"></div><div style=\"display: table-cell;\">muted_glyph&nbsp;=&nbsp;None,</div></div><div class=\"1062\" style=\"display: none;\"><div style=\"display: table-cell;\"></div><div style=\"display: table-cell;\">name&nbsp;=&nbsp;None,</div></div><div class=\"1062\" style=\"display: none;\"><div style=\"display: table-cell;\"></div><div style=\"display: table-cell;\">nonselection_glyph&nbsp;=&nbsp;Rect(id='1059', ...),</div></div><div class=\"1062\" style=\"display: none;\"><div style=\"display: table-cell;\"></div><div style=\"display: table-cell;\">selection_glyph&nbsp;=&nbsp;None,</div></div><div class=\"1062\" style=\"display: none;\"><div style=\"display: table-cell;\"></div><div style=\"display: table-cell;\">subscribed_events&nbsp;=&nbsp;[],</div></div><div class=\"1062\" style=\"display: none;\"><div style=\"display: table-cell;\"></div><div style=\"display: table-cell;\">tags&nbsp;=&nbsp;[],</div></div><div class=\"1062\" style=\"display: none;\"><div style=\"display: table-cell;\"></div><div style=\"display: table-cell;\">view&nbsp;=&nbsp;CDSView(id='1061', ...),</div></div><div class=\"1062\" style=\"display: none;\"><div style=\"display: table-cell;\"></div><div style=\"display: table-cell;\">visible&nbsp;=&nbsp;True,</div></div><div class=\"1062\" style=\"display: none;\"><div style=\"display: table-cell;\"></div><div style=\"display: table-cell;\">x_range_name&nbsp;=&nbsp;'default',</div></div><div class=\"1062\" style=\"display: none;\"><div style=\"display: table-cell;\"></div><div style=\"display: table-cell;\">y_range_name&nbsp;=&nbsp;'default')</div></div></div>\n",
       "<script>\n",
       "(function() {\n",
       "  var expanded = false;\n",
       "  var ellipsis = document.getElementById(\"1063\");\n",
       "  ellipsis.addEventListener(\"click\", function() {\n",
       "    var rows = document.getElementsByClassName(\"1062\");\n",
       "    for (var i = 0; i < rows.length; i++) {\n",
       "      var el = rows[i];\n",
       "      el.style.display = expanded ? \"none\" : \"table-row\";\n",
       "    }\n",
       "    ellipsis.innerHTML = expanded ? \"&hellip;)\" : \"&lsaquo;&lsaquo;&lsaquo;\";\n",
       "    expanded = !expanded;\n",
       "  });\n",
       "})();\n",
       "</script>\n"
      ],
      "text/plain": [
       "GlyphRenderer(id='1060', ...)"
      ]
     },
     "execution_count": 13,
     "metadata": {},
     "output_type": "execute_result"
    }
   ],
   "source": [
    "#Create rects for price increases\n",
    "p.rect(x='seqs', y='mid', width=w, height='height', fill_color='green', line_color='green', source=sourceInc)\n",
    "#Create rects for price decreases\n",
    "p.rect(x='seqs', y='mid', width=w, height='height', fill_color='red', line_color='red', source=sourceDec)"
   ]
  },
  {
   "cell_type": "code",
   "execution_count": 14,
   "metadata": {},
   "outputs": [
    {
     "name": "stderr",
     "output_type": "stream",
     "text": [
      "/home/scott/.local/share/virtualenvs/stock_portfolio-tsVmF7JH/lib/python3.6/site-packages/bokeh/io/saving.py:127: UserWarning: save() called but no resources were supplied and output_file(...) was never called, defaulting to resources.CDN\n",
      "  warn(\"save() called but no resources were supplied and output_file(...) was never called, defaulting to resources.CDN\")\n",
      "/home/scott/.local/share/virtualenvs/stock_portfolio-tsVmF7JH/lib/python3.6/site-packages/bokeh/io/saving.py:140: UserWarning: save() called but no title was supplied and output_file(...) was never called, using default title 'Bokeh Plot'\n",
      "  warn(\"save() called but no title was supplied and output_file(...) was never called, using default title 'Bokeh Plot'\")\n"
     ]
    },
    {
     "data": {
      "text/plain": [
       "'/home/scott/codefellows/401/projects/stock_portfolio/stock_plot.html'"
      ]
     },
     "execution_count": 14,
     "metadata": {},
     "output_type": "execute_result"
    }
   ],
   "source": [
    "# bk.show(p)\n",
    "bk.save(p, './stock_plot.html')"
   ]
  },
  {
   "cell_type": "code",
   "execution_count": 19,
   "metadata": {},
   "outputs": [],
   "source": [
    "bk.show(p)"
   ]
  },
  {
   "cell_type": "code",
   "execution_count": null,
   "metadata": {},
   "outputs": [],
   "source": []
  }
 ],
 "metadata": {
  "kernelspec": {
   "display_name": "Python 3",
   "language": "python",
   "name": "python3"
  },
  "language_info": {
   "codemirror_mode": {
    "name": "ipython",
    "version": 3
   },
   "file_extension": ".py",
   "mimetype": "text/x-python",
   "name": "python",
   "nbconvert_exporter": "python",
   "pygments_lexer": "ipython3",
   "version": "3.6.7"
  }
 },
 "nbformat": 4,
 "nbformat_minor": 2
}
